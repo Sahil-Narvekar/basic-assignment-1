{
 "cells": [
  {
   "cell_type": "markdown",
   "metadata": {},
   "source": [
    "###hey\n"
   ]
  },
  {
   "cell_type": "code",
   "execution_count": null,
   "metadata": {},
   "outputs": [],
   "source": [
    "1. What are the differences between operators and values in the following?\n",
    "*\n",
    "'hello'\n",
    "-87.8\n",
    "-\n",
    "/\n",
    "+\n",
    "6\n"
   ]
  },
  {
   "cell_type": "code",
   "execution_count": null,
   "metadata": {},
   "outputs": [],
   "source": [
    "*      multiplication operator\n",
    "'hello'string value \n",
    "-87.8  integer value\n",
    "-      subtract operator\n",
    "/      division operator\n",
    "+      addition operator\n",
    "6      integer value\n"
   ]
  },
  {
   "cell_type": "code",
   "execution_count": null,
   "metadata": {},
   "outputs": [],
   "source": [
    "2. What is the difference between string and variable?\n",
    "spam\n",
    "'spam'\n",
    "ans)variable spam can be assigned some value like integer 5,it can have different type like integer or stringit can have different values throughout the program,can be used to store value\n",
    "\n",
    "'spam' It is a combination of characters ,a string would always be string type.The string with name 'spam' would be same throughout the program\n"
   ]
  },
  {
   "cell_type": "code",
   "execution_count": null,
   "metadata": {},
   "outputs": [],
   "source": [
    "3. Describe three different data forms.\n",
    "1)Text type Strings:Strings are sequences of character data.Its type is str().\n",
    "Example:'Hey' is string\n",
    "\n",
    "2)Boolean:True or False,its data type is bool\n",
    "Example 5==5 will give True which is boolean\n",
    "\n",
    "3)Sequence type list,tuple, range:\n",
    "List is used to store multiple items in single variable\n",
    "Example  thelist=[5,'hey',4.3] is list\n"
   ]
  },
  {
   "cell_type": "code",
   "execution_count": null,
   "metadata": {},
   "outputs": [],
   "source": [
    "4. What makes up an expression? What are the functions of all expressions?\n",
    "\n",
    "Expression is a combination of values,variables,operators and calls to functions.\n",
    "example-print('a',5*'* ')will display a * * * * * in this 5*'* 'would be considered expression and \n",
    "print is the function that will display the expression.\n",
    "Other functions ike min()-find minimum number,\n",
    "                    max()-find maximum number,\n",
    "                    len()-find the length can also be used \n",
    "\n"
   ]
  },
  {
   "cell_type": "code",
   "execution_count": null,
   "metadata": {},
   "outputs": [],
   "source": [
    "5. In this chapter, assignment statements such as spam = 10 were added.\n",
    "What's the difference between a declaration and an expression?\n",
    "\n",
    "Declaration:Declaring a variable means binding the variable to data type,declaration of variables is not required in python .Any variable can be given a name and can be used ,value as well as data type of the variable can be changed in python\n",
    "\n",
    "Expression:Expression is sentence with minimum of two numbers and atleast one math operation\n",
    "Example spam=10 will be considered as assigning value 10 to variable spam \n",
    "       however\n",
    "       spam=spam* 2 will be considered expression as per the definition of expression "
   ]
  },
  {
   "cell_type": "code",
   "execution_count": null,
   "metadata": {},
   "outputs": [],
   "source": [
    "6. After running the following code, what does the variable bacon contain?\n",
    "bacon = 22\n",
    "bacon + 1\n",
    "\n",
    "Value of bacon is 22"
   ]
  },
  {
   "cell_type": "code",
   "execution_count": null,
   "metadata": {},
   "outputs": [],
   "source": [
    "7. What should the values of the following two terms be?\n",
    "\n",
    "'spam' + 'spamspam'\n",
    "'spam' * 3\n",
    "\n",
    "answer)'spamspamspam'"
   ]
  },
  {
   "cell_type": "code",
   "execution_count": null,
   "metadata": {},
   "outputs": [],
   "source": [
    "8. Why is it that eggs is a true variable name but 100 is not?\n",
    "\n",
    "Because 100 is a integer and variable cannot be integer or starting \n",
    "with a number however eggs is combination of lettter characters hence can be used as variable"
   ]
  },
  {
   "cell_type": "code",
   "execution_count": null,
   "metadata": {},
   "outputs": [],
   "source": [
    "9. Which of the following three functions may be used to convert a value to an integer, \n",
    "a floating-point number, or a string?\n",
    "\n",
    "to integer=int(value)\n",
    "to floatpoint=float(value)\n",
    "to astring=str(value)"
   ]
  },
  {
   "cell_type": "code",
   "execution_count": null,
   "metadata": {},
   "outputs": [],
   "source": [
    "\n",
    "10. What is the error caused by this expression? What would you do about it?\n",
    "\n",
    "'I have eaten ' + 99 + ' burritos.'\n",
    "\n",
    "ans)TypeError: can only concatenate str (not \"int\") to str\n",
    "we are adding int type data to str\n",
    "can be solved by \n",
    "'I have eaten ' + str('99') + ' burritos.'\n"
   ]
  },
  {
   "cell_type": "code",
   "execution_count": 15,
   "metadata": {},
   "outputs": [
    {
     "data": {
      "text/plain": [
       "'I have eaten 99 burritos.'"
      ]
     },
     "execution_count": 15,
     "metadata": {},
     "output_type": "execute_result"
    }
   ],
   "source": [
    "'I have eaten ' + str('99') + ' burritos.'"
   ]
  },
  {
   "cell_type": "code",
   "execution_count": null,
   "metadata": {},
   "outputs": [],
   "source": []
  }
 ],
 "metadata": {
  "kernelspec": {
   "display_name": "Python 3",
   "language": "python",
   "name": "python3"
  },
  "language_info": {
   "codemirror_mode": {
    "name": "ipython",
    "version": 3
   },
   "file_extension": ".py",
   "mimetype": "text/x-python",
   "name": "python",
   "nbconvert_exporter": "python",
   "pygments_lexer": "ipython3",
   "version": "3.8.3"
  }
 },
 "nbformat": 4,
 "nbformat_minor": 4
}
